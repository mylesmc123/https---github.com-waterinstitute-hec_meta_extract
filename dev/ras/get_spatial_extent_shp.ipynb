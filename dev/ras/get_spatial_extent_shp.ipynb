{
 "cells": [
  {
   "cell_type": "code",
   "execution_count": 3,
   "metadata": {},
   "outputs": [],
   "source": [
    "import geopandas as gpd\n"
   ]
  },
  {
   "cell_type": "code",
   "execution_count": 1,
   "metadata": {},
   "outputs": [],
   "source": [
    "shp = r\"Z:\\Amite\\Amite_LWI\\Models\\Amite_RAS\\Features\\OptimizedGeometryBoundary.shp\"\n"
   ]
  },
  {
   "cell_type": "code",
   "execution_count": 4,
   "metadata": {},
   "outputs": [],
   "source": [
    "gdf = gpd.read_file(shp)\n",
    "gdf = gdf.to_crs(4326)\n",
    "a = gdf.to_wkt().geometry[0]\n"
   ]
  }
 ],
 "metadata": {
  "kernelspec": {
   "display_name": "flask-forms",
   "language": "python",
   "name": "python3"
  },
  "language_info": {
   "codemirror_mode": {
    "name": "ipython",
    "version": 3
   },
   "file_extension": ".py",
   "mimetype": "text/x-python",
   "name": "python",
   "nbconvert_exporter": "python",
   "pygments_lexer": "ipython3",
   "version": "3.11.0"
  },
  "orig_nbformat": 4,
  "vscode": {
   "interpreter": {
    "hash": "990a51e6637b3aec83bdfd68488de192c6aff3f5a8661c0fcf7fce7c40ea5ab0"
   }
  }
 },
 "nbformat": 4,
 "nbformat_minor": 2
}
