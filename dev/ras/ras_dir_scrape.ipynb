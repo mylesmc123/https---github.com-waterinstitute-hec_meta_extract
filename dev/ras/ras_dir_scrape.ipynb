{
 "cells": [
  {
   "cell_type": "code",
   "execution_count": 84,
   "metadata": {},
   "outputs": [],
   "source": [
    "import glob\n",
    "import copy\n",
    "import yaml\n",
    "import os"
   ]
  },
  {
   "cell_type": "code",
   "execution_count": 87,
   "metadata": {},
   "outputs": [
    {
     "data": {
      "text/plain": [
       "'Z:\\\\Amite\\\\Amite_LWI\\\\Models\\\\Amite_RAS'"
      ]
     },
     "execution_count": 87,
     "metadata": {},
     "output_type": "execute_result"
    }
   ],
   "source": [
    "head, tail = os.path.split('Z:\\Amite\\Amite_LWI\\Models\\Amite_RAS\\Amite_2022.b03')\n",
    "head\n",
    "# tail"
   ]
  },
  {
   "cell_type": "code",
   "execution_count": 75,
   "metadata": {},
   "outputs": [
    {
     "name": "stdout",
     "output_type": "stream",
     "text": [
      "\n",
      "Named with wildcard *:\n",
      "Z:\\Amite\\Amite_LWI\\Models\\Amite_RAS\\Amite_2022.b03\n",
      "Z:\\Amite\\Amite_LWI\\Models\\Amite_RAS\\Amite_2022.b04\n",
      "Z:\\Amite\\Amite_LWI\\Models\\Amite_RAS\\Amite_2022.b07\n",
      "Z:\\Amite\\Amite_LWI\\Models\\Amite_RAS\\Amite_2022.b98\n",
      "Z:\\Amite\\Amite_LWI\\Models\\Amite_RAS\\Amite_2022.bco03\n",
      "Z:\\Amite\\Amite_LWI\\Models\\Amite_RAS\\Amite_2022.bco04\n",
      "Z:\\Amite\\Amite_LWI\\Models\\Amite_RAS\\Amite_2022.bco07\n",
      "Z:\\Amite\\Amite_LWI\\Models\\Amite_RAS\\Amite_2022.c01\n",
      "Z:\\Amite\\Amite_LWI\\Models\\Amite_RAS\\Amite_2022.color_scales\n",
      "Z:\\Amite\\Amite_LWI\\Models\\Amite_RAS\\Amite_2022.dsc.h5\n",
      "Z:\\Amite\\Amite_LWI\\Models\\Amite_RAS\\Amite_2022.dss\n",
      "Z:\\Amite\\Amite_LWI\\Models\\Amite_RAS\\Amite_2022.g01\n",
      "Z:\\Amite\\Amite_LWI\\Models\\Amite_RAS\\Amite_2022.g01.hdf\n",
      "Z:\\Amite\\Amite_LWI\\Models\\Amite_RAS\\Amite_2022.IC.O03\n",
      "Z:\\Amite\\Amite_LWI\\Models\\Amite_RAS\\Amite_2022.IC.O04\n",
      "Z:\\Amite\\Amite_LWI\\Models\\Amite_RAS\\Amite_2022.IC.O07\n",
      "Z:\\Amite\\Amite_LWI\\Models\\Amite_RAS\\Amite_2022.p01\n",
      "Z:\\Amite\\Amite_LWI\\Models\\Amite_RAS\\Amite_2022.p02\n",
      "Z:\\Amite\\Amite_LWI\\Models\\Amite_RAS\\Amite_2022.p03\n",
      "Z:\\Amite\\Amite_LWI\\Models\\Amite_RAS\\Amite_2022.p03.hdf\n",
      "Z:\\Amite\\Amite_LWI\\Models\\Amite_RAS\\Amite_2022.p04\n",
      "Z:\\Amite\\Amite_LWI\\Models\\Amite_RAS\\Amite_2022.p04.19AUG2022 2400.rst\n",
      "Z:\\Amite\\Amite_LWI\\Models\\Amite_RAS\\Amite_2022.p04.hdf\n",
      "Z:\\Amite\\Amite_LWI\\Models\\Amite_RAS\\Amite_2022.p07\n",
      "Z:\\Amite\\Amite_LWI\\Models\\Amite_RAS\\Amite_2022.p07.hdf\n",
      "Z:\\Amite\\Amite_LWI\\Models\\Amite_RAS\\Amite_2022.p98.tmp.hdf\n",
      "Z:\\Amite\\Amite_LWI\\Models\\Amite_RAS\\Amite_2022.prj\n",
      "Z:\\Amite\\Amite_LWI\\Models\\Amite_RAS\\Amite_2022.rasmap\n",
      "Z:\\Amite\\Amite_LWI\\Models\\Amite_RAS\\Amite_2022.rasmap.backup\n",
      "Z:\\Amite\\Amite_LWI\\Models\\Amite_RAS\\Amite_2022.u01\n",
      "Z:\\Amite\\Amite_LWI\\Models\\Amite_RAS\\Amite_2022.u01.hdf\n",
      "Z:\\Amite\\Amite_LWI\\Models\\Amite_RAS\\Amite_2022.u02\n",
      "Z:\\Amite\\Amite_LWI\\Models\\Amite_RAS\\Amite_2022.u02.hdf\n",
      "Z:\\Amite\\Amite_LWI\\Models\\Amite_RAS\\Amite_2022.u05\n",
      "Z:\\Amite\\Amite_LWI\\Models\\Amite_RAS\\Amite_2022.u05.hdf\n",
      "Z:\\Amite\\Amite_LWI\\Models\\Amite_RAS\\Amite_2022.x01\n",
      "Z:\\Amite\\Amite_LWI\\Models\\Amite_RAS\\Backup.p01\n",
      "Z:\\Amite\\Amite_LWI\\Models\\Amite_RAS\\Backup.u01\n",
      "Z:\\Amite\\Amite_LWI\\Models\\Amite_RAS\\Backup.u01.hdf\n",
      "Z:\\Amite\\Amite_LWI\\Models\\Amite_RAS\\BC_Extended\n",
      "Z:\\Amite\\Amite_LWI\\Models\\Amite_RAS\\Features\n",
      "Z:\\Amite\\Amite_LWI\\Models\\Amite_RAS\\Isaac_all_AORC_Opt\n",
      "Z:\\Amite\\Amite_LWI\\Models\\Amite_RAS\\LULC\n",
      "Z:\\Amite\\Amite_LWI\\Models\\Amite_RAS\\Projection\n",
      "Z:\\Amite\\Amite_LWI\\Models\\Amite_RAS\\Terrain\n"
     ]
    }
   ],
   "source": [
    "# Using '*' pattern \n",
    "print('\\nNamed with wildcard *:')\n",
    "for name in glob.glob(r'Z:\\Amite\\Amite_LWI\\Models\\Amite_RAS\\*'):\n",
    "    print(name)"
   ]
  },
  {
   "cell_type": "code",
   "execution_count": 76,
   "metadata": {},
   "outputs": [
    {
     "name": "stdout",
     "output_type": "stream",
     "text": [
      "Z:\\Amite\\Amite_LWI\\Models\\Amite_RAS\\Amite_2022.prj\n"
     ]
    }
   ],
   "source": [
    "# find *.prj files\n",
    "for name in glob.glob(r'Z:\\Amite\\Amite_LWI\\Models\\Amite_RAS\\*.prj'):\n",
    "    print(name)"
   ]
  },
  {
   "cell_type": "code",
   "execution_count": 77,
   "metadata": {},
   "outputs": [
    {
     "data": {
      "text/plain": [
       "['Proj Title=Amite_2022\\n',\n",
       " 'Current Plan=p07\\n',\n",
       " 'Default Exp/Contr=0.3,0.1\\n',\n",
       " 'English Units\\n',\n",
       " 'Geom File=g01\\n',\n",
       " 'Unsteady File=u05\\n',\n",
       " 'Unsteady File=u01\\n',\n",
       " 'Unsteady File=u02\\n',\n",
       " 'Plan File=p07\\n',\n",
       " 'Plan File=p01\\n',\n",
       " 'Plan File=p02\\n',\n",
       " 'Plan File=p03\\n',\n",
       " 'Plan File=p04\\n',\n",
       " 'Background Map Layer=Gauging Stations\\n',\n",
       " 'Y Axis Title=Elevation\\n',\n",
       " 'X Axis Title(PF)=Main Channel Distance\\n',\n",
       " 'X Axis Title(XS)=Station\\n',\n",
       " 'BEGIN DESCRIPTION:\\n',\n",
       " 'LWI Amite Calibrated HEC-RAS model \\n',\n",
       " 'END DESCRIPTION:\\n',\n",
       " 'DSS Start Date=\\n',\n",
       " 'DSS Start Time=\\n',\n",
       " 'DSS End Date=\\n',\n",
       " 'DSS End Time=\\n',\n",
       " 'DSS File=.\\\\BC_Extended\\\\PortVincent_AmiteGage_15min.dss\\n',\n",
       " 'DSS File=dss\\n',\n",
       " 'DSS Export Filename=\\n',\n",
       " 'DSS Export Rating Curves= 0 \\n',\n",
       " 'DSS Export Rating Curve Sorted= 0 \\n',\n",
       " 'DSS Export Volume Flow Curves= 0 \\n',\n",
       " 'DXF Filename=\\n',\n",
       " 'DXF OffsetX= 0 \\n',\n",
       " 'DXF OffsetY= 0 \\n',\n",
       " 'DXF ScaleX= 1 \\n',\n",
       " 'DXF ScaleY= 10 \\n',\n",
       " 'GIS Export Profiles= 0 \\n']"
      ]
     },
     "execution_count": 77,
     "metadata": {},
     "output_type": "execute_result"
    }
   ],
   "source": [
    "with open(r\"Z:\\Amite\\Amite_LWI\\Models\\Amite_RAS\\Amite_2022.prj\", \"r\") as f:\n",
    "# print(f.readlines())\n",
    "    lines = f.readlines()\n",
    "\n",
    "lines"
   ]
  },
  {
   "cell_type": "code",
   "execution_count": 78,
   "metadata": {},
   "outputs": [],
   "source": [
    "lines = [s.strip('\\n') for s in lines]"
   ]
  },
  {
   "cell_type": "code",
   "execution_count": 79,
   "metadata": {},
   "outputs": [],
   "source": [
    "keyValueList = copy.deepcopy(lines)\n",
    "# Create a pop list of indices to remove because missing key=value pairs.\n",
    "popList = []\n",
    "for i,v in enumerate(lines):\n",
    "    if '=' not in v:\n",
    "        popList.append(i)\n",
    "# Remove indices in popList\n",
    "for index in sorted(popList, reverse=True):\n",
    "    del keyValueList[index]"
   ]
  },
  {
   "cell_type": "code",
   "execution_count": 80,
   "metadata": {},
   "outputs": [
    {
     "data": {
      "text/plain": [
       "{'Proj Title': 'Amite_2022',\n",
       " 'Current Plan': 'p07',\n",
       " 'Default Exp/Contr': '0.3,0.1',\n",
       " 'Geom File': 'g01',\n",
       " 'Unsteady File': 'u02',\n",
       " 'Plan File': 'p04',\n",
       " 'Background Map Layer': 'Gauging Stations',\n",
       " 'Y Axis Title': 'Elevation',\n",
       " 'X Axis Title(PF)': 'Main Channel Distance',\n",
       " 'X Axis Title(XS)': 'Station',\n",
       " 'DSS Start Date': '',\n",
       " 'DSS Start Time': '',\n",
       " 'DSS End Date': '',\n",
       " 'DSS End Time': '',\n",
       " 'DSS File': 'dss',\n",
       " 'DSS Export Filename': '',\n",
       " 'DSS Export Rating Curves': ' 0 ',\n",
       " 'DSS Export Rating Curve Sorted': ' 0 ',\n",
       " 'DSS Export Volume Flow Curves': ' 0 ',\n",
       " 'DXF Filename': '',\n",
       " 'DXF OffsetX': ' 0 ',\n",
       " 'DXF OffsetY': ' 0 ',\n",
       " 'DXF ScaleX': ' 1 ',\n",
       " 'DXF ScaleY': ' 10 ',\n",
       " 'GIS Export Profiles': ' 0 '}"
      ]
     },
     "execution_count": 80,
     "metadata": {},
     "output_type": "execute_result"
    }
   ],
   "source": [
    "keyValues_dict = dict(s.split('=',1) for s in keyValueList)\n",
    "keyValues_dict"
   ]
  },
  {
   "cell_type": "markdown",
   "metadata": {},
   "source": []
  },
  {
   "cell_type": "code",
   "execution_count": 81,
   "metadata": {},
   "outputs": [],
   "source": [
    "# add specific popList lines from prj file to keyValue_dict\n",
    "for i,v in enumerate(popList):\n",
    "\n",
    "    if \"BEGIN DESCRIPTION:\" in lines[v]:\n",
    "        description = lines[v+1]\n",
    "keyValues_dict['Description'] = description"
   ]
  },
  {
   "cell_type": "code",
   "execution_count": 83,
   "metadata": {},
   "outputs": [],
   "source": [
    "with open('ras_prj.yaml', 'w+') as f:\n",
    "    yaml.dump(keyValues_dict, f)"
   ]
  },
  {
   "cell_type": "code",
   "execution_count": 9,
   "metadata": {},
   "outputs": [
    {
     "name": "stdout",
     "output_type": "stream",
     "text": [
      "Amite_2022\n",
      "Amite_2022\n",
      "Amite_2022\n",
      "Amite_2022\n",
      "Amite_2022\n",
      "Backup\n"
     ]
    },
    {
     "data": {
      "text/plain": [
       "['Z:\\\\Amite\\\\Amite_LWI\\\\Models\\\\Amite_RAS\\\\Amite_2022.p01',\n",
       " 'Z:\\\\Amite\\\\Amite_LWI\\\\Models\\\\Amite_RAS\\\\Amite_2022.p02',\n",
       " 'Z:\\\\Amite\\\\Amite_LWI\\\\Models\\\\Amite_RAS\\\\Amite_2022.p03',\n",
       " 'Z:\\\\Amite\\\\Amite_LWI\\\\Models\\\\Amite_RAS\\\\Amite_2022.p04',\n",
       " 'Z:\\\\Amite\\\\Amite_LWI\\\\Models\\\\Amite_RAS\\\\Amite_2022.p07']"
      ]
     },
     "execution_count": 9,
     "metadata": {},
     "output_type": "execute_result"
    }
   ],
   "source": [
    "# get p files in prj_dir\n",
    "import glob,os\n",
    "\n",
    "prj = 'Z:\\Amite\\Amite_LWI\\Models\\Amite_RAS\\Amite_2022.prj'\n",
    "prj_dir, prj_file_tail = os.path.split(prj)\n",
    "prj_name = prj_file_tail.split(\".\")[0]\n",
    "pList = []\n",
    "\n",
    "for pFile in glob.glob(r'Z:\\Amite\\Amite_LWI\\Models\\Amite_RAS\\*.p' + '[0-9]' * 2):\n",
    "    prj_dir, p_file_tail = os.path.split(pFile)\n",
    "    p_file_prj_name = p_file_tail.split(\".\")[0]\n",
    "    if p_file_prj_name == prj_name:\n",
    "        pList.append(pFile)\n",
    "    \n",
    "pList"
   ]
  },
  {
   "cell_type": "code",
   "execution_count": 38,
   "metadata": {},
   "outputs": [
    {
     "name": "stdout",
     "output_type": "stream",
     "text": [
      "Amite_2022.p01\n",
      "Amite_2022.p02\n",
      "Amite_2022.p03\n",
      "Amite_2022.p04\n",
      "Amite_2022.p07\n"
     ]
    }
   ],
   "source": [
    "import copy,yaml\n",
    "for p in pList:\n",
    "    # print (p)\n",
    "    prj_dir, p_file_tail = os.path.split(p)\n",
    "    print (p_file_tail)\n",
    "    with open(p, \"r\") as f:\n",
    "        # print(f.readlines())\n",
    "        lines = f.readlines()\n",
    "    \n",
    "    lines = [s.strip('\\n') for s in lines]\n",
    "    keyValueList = copy.deepcopy(lines)\n",
    "    \n",
    "    # Create a pop list of indices to remove because missing key=value pairs.\n",
    "    popList = []\n",
    "    for i,v in enumerate(lines):\n",
    "        if '=' not in v:\n",
    "            popList.append(i)\n",
    "    # Remove indices in popList\n",
    "    for index in sorted(popList, reverse=True):\n",
    "        del keyValueList[index]\n",
    "\n",
    "    # Create dictionary from trimmed list\n",
    "    keyValues_dict = dict(s.split('=',1) for s in keyValueList)\n",
    "\n",
    "    # Add specific popList lines from prj file to keyValue_dict\n",
    "    for i,v in enumerate(popList):\n",
    "        if \"BEGIN DESCRIPTION:\" in lines[v]:\n",
    "            description = lines[v+1]\n",
    "            keyValues_dict['Description'] = description\n",
    "\n",
    "    # Get associated geometry file\n",
    "    prj_name = p_file_tail.split(\".\")[0]\n",
    "    geom_file_extension = keyValues_dict['Geom File']\n",
    "    geom_file = os.path.join(prj_dir, prj_name +\".\"+ geom_file_extension)\n",
    "    with open(geom_file, \"r\") as f:\n",
    "        geom_lines = f.readlines()\n",
    "    geom_lines = [s.strip('\\n') for s in geom_lines]\n",
    "\n",
    "    geom_keyValueList = copy.deepcopy(geom_lines)\n",
    "    \n",
    "    # Create a pop list of indices to remove because missing key=value pairs.\n",
    "    geom_popList = []\n",
    "    for i,v in enumerate(geom_lines):\n",
    "        if '=' not in v:\n",
    "            geom_popList.append(i)\n",
    "    # Remove indices in geom_popList\n",
    "    for index in sorted(geom_popList, reverse=True):\n",
    "        # print(index)\n",
    "        del geom_keyValueList[index]\n",
    "\n",
    "    # Create dictionary from trimmed list\n",
    "    geom_keyValues_dict = dict(s.split('=',1) for s in geom_keyValueList)\n",
    "\n",
    "    # Add key value pairs from geom file to p file.\n",
    "    keyValues_dict['Geom Title'] = geom_keyValues_dict['Geom Title']\n",
    "\n",
    "    # Write the output yaml for each .p## file.\n",
    "    with open(f'../output/{p_file_tail}.yml', 'w+') as f:\n",
    "        yaml.dump(keyValues_dict, f)\n",
    "\n",
    "\n"
   ]
  },
  {
   "cell_type": "code",
   "execution_count": 41,
   "metadata": {},
   "outputs": [
    {
     "name": "stdout",
     "output_type": "stream",
     "text": [
      "SLaMM_2021.u99\n"
     ]
    }
   ],
   "source": [
    "# Parse U file and get dss files and paths as a list\n",
    "u = \"Z:\\SLaMM_Mar2022\\SLaMM_2021.u99\"\n",
    "prj_dir, u_file_tail = os.path.split(u)\n",
    "print (u_file_tail)\n",
    "with open(u, \"r\") as f:\n",
    "    # print(f.readlines())\n",
    "    lines = f.readlines()\n",
    "    \n",
    "lines = [s.strip('\\n') for s in lines]\n",
    "keyValueList = copy.deepcopy(lines)\n"
   ]
  },
  {
   "cell_type": "code",
   "execution_count": 65,
   "metadata": {},
   "outputs": [
    {
     "data": {
      "text/plain": [
       "{'DSS Input Files': [['DSS File=..\\\\RTF_06302022\\\\RTF_BCData.dss',\n",
       "   'DSS Path=/RFC/rrll1/STAGE/01Jun2022/IR-Month/Issued 06-30-2022 15:03:00 UTC/'],\n",
       "  ['DSS File=..\\\\RTF_06302022\\\\RTF_BCData.dss',\n",
       "   'DSS Path=/RFC/smml1/STAGE/01Jun2022/IR-Month/Issued 06-30-2022 15:13:00 UTC/'],\n",
       "  ['DSS File=..\\\\RTF_06302022\\\\RTF_BCData.dss',\n",
       "   'DSS Path=//Gulf/STAGE/01Jun2022/20Minute/ADCIRC/'],\n",
       "  ['Observed Time Series=Stage|TS DSS Filename=..\\\\RTF_06302022\\\\RTF_BCData.dss',\n",
       "   'Observed Time Series=Stage|TS DSS Pathname=/RFC/rrll1/STAGE/01Jun2022/IR-Month/Issued 06-30-2022 15:03:00 UTC/'],\n",
       "  ['Observed Time Series=Stage|TS DSS Filename=..\\\\RTF_06302022\\\\RTF_BCData.dss',\n",
       "   'Observed Time Series=Stage|TS DSS Pathname=/RFC/smml1/STAGE/01Jun2022/IR-Month/Issued 06-30-2022 15:13:00 UTC/']]}"
      ]
     },
     "execution_count": 65,
     "metadata": {},
     "output_type": "execute_result"
    }
   ],
   "source": [
    "# Get lines with 'DSS Filename'\n",
    "dss_file_lines= [[i,v] for i,v in enumerate(lines) if \"DSS File\" in v]\n",
    "# print (dss_file_lines)\n",
    "\n",
    "# Get dss pathnames for each dss_file_line\n",
    "dss_file_and_paths = []\n",
    "for dss_file_line in dss_file_lines:\n",
    "    # The line in the u file with a dss pathname is always +1 lines from the line specifying the DSS File.\n",
    "    dss_pathname = lines[dss_file_line[0]+1]\n",
    "    # Create a list of lists containing just the [[DSS Files, DSS Pathnames]]\n",
    "    dss_file_and_paths.append([dss_file_line[1],dss_pathname])\n",
    "\n",
    "# Put [DSS Files,Pathnames] lists in a dictionary\n",
    "dss_file_dict = {}\n",
    "dss_file_dict['DSS Input Files'] = dss_file_and_paths\n",
    "dss_file_dict"
   ]
  },
  {
   "cell_type": "code",
   "execution_count": 34,
   "metadata": {},
   "outputs": [
    {
     "data": {
      "text/plain": [
       "'.\\\\Terrain\\\\Amite_Dec15.hdf'"
      ]
     },
     "execution_count": 34,
     "metadata": {},
     "output_type": "execute_result"
    }
   ],
   "source": [
    "# open plan hdf file\n",
    "import h5py\n",
    "with h5py.File(r\"Z:\\Amite\\Amite_LWI\\Models\\Amite_RAS\\Amite_20200114.p07.hdf\", \"r\") as f:\n",
    "    terrain = f['Geometry'].attrs['Terrain Filename'].decode('UTF-8')\n",
    "\n",
    "terrain\n",
    "    \n",
    "    # f['Geometry']['Terrain Filename']"
   ]
  }
 ],
 "metadata": {
  "kernelspec": {
   "display_name": "hec_meta",
   "language": "python",
   "name": "python3"
  },
  "language_info": {
   "codemirror_mode": {
    "name": "ipython",
    "version": 3
   },
   "file_extension": ".py",
   "mimetype": "text/x-python",
   "name": "python",
   "nbconvert_exporter": "python",
   "pygments_lexer": "ipython3",
   "version": "3.11.0"
  },
  "orig_nbformat": 4,
  "vscode": {
   "interpreter": {
    "hash": "76ecb9a863def9b21f44032a5e87e3ce48447e177fd90c9ddac9401b285a34c6"
   }
  }
 },
 "nbformat": 4,
 "nbformat_minor": 2
}
