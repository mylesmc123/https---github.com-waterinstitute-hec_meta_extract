{
 "cells": [
  {
   "cell_type": "code",
   "execution_count": 43,
   "metadata": {},
   "outputs": [],
   "source": [
    "# Model Application - Map YAML to current web app JSON input format.\n",
    "\n",
    "import json\n",
    "import yaml\n",
    "\n",
    "with open(r\"C:\\py\\hec_meta_extract\\example\\input\\json\\ras_model_application.json\", 'r') as f:\n",
    "    ras_model_template_json = json.load(f)\n",
    "\n",
    "# type(ras_model_template_json)\n",
    "# print(ras_model_template_json.keys())\n",
    "\n",
    "# keys to drop\n",
    "drop_keys = ['_id', 'linked_resources', 'common_parameters', 'common_software_version', 'authors', 'spatial_extent_resolved', 'temporal_extent', 'temporal_resolution', 'spatial_valid_extent']\n",
    "\n",
    "for key in drop_keys:\n",
    "    del ras_model_template_json[key]\n",
    "# ras_model_template_json\n",
    "\n",
    "# set basic keywords\n",
    "ras_model_template_json['keywords'] = ['hec-ras','hec','ras','hydraulic','model','lwi']"
   ]
  },
  {
   "cell_type": "code",
   "execution_count": 44,
   "metadata": {},
   "outputs": [],
   "source": [
    "# Open ras prj yaml to map values to json\n",
    "with open(r'C:\\py\\hec_meta_extract\\output\\ras\\Amite_2022\\Amite_2022_ras_prj.yml', \"r\") as stream:\n",
    "    try:\n",
    "        # print(yaml.safe_load(stream))\n",
    "        prj_yaml = yaml.safe_load(stream)\n",
    "    except yaml.YAMLError as exc:\n",
    "        print(exc)\n",
    "\n"
   ]
  },
  {
   "cell_type": "code",
   "execution_count": 46,
   "metadata": {},
   "outputs": [],
   "source": [
    "# Map\n",
    "ras_model_template_json['title'] = prj_yaml['Proj Title']\n",
    "ras_model_template_json['description'] = prj_yaml['Description']\n",
    "ras_model_template_json['purpose'] = prj_yaml['Description']\n",
    "ras_model_template_json['simulations'] = prj_yaml['Plans']\n",
    "ras_model_template_json['grid']['coordinate_system'] = prj_yaml['coordinate_system']\n",
    "ras_model_template_json['spatial_extent'][0] = prj_yaml['spatial_extent']\n",
    "ras_model_template_json['common_files_details'][0] = {\n",
    "    'source_dataset': None,\n",
    "    'description': 'RAS project file which links projects with plans, geometry, and flow files',\n",
    "    'location': prj_yaml['Project File'],\n",
    "    'title': 'prj file'\n",
    "}\n",
    "\n",
    "\n"
   ]
  },
  {
   "cell_type": "code",
   "execution_count": 48,
   "metadata": {},
   "outputs": [],
   "source": [
    "# output mapped json\n",
    "with open(\"out.json\", \"w\") as outfile:\n",
    "    json.dump(ras_model_template_json, outfile)"
   ]
  }
 ],
 "metadata": {
  "kernelspec": {
   "display_name": "flask-forms",
   "language": "python",
   "name": "python3"
  },
  "language_info": {
   "codemirror_mode": {
    "name": "ipython",
    "version": 3
   },
   "file_extension": ".py",
   "mimetype": "text/x-python",
   "name": "python",
   "nbconvert_exporter": "python",
   "pygments_lexer": "ipython3",
   "version": "3.11.0"
  },
  "orig_nbformat": 4,
  "vscode": {
   "interpreter": {
    "hash": "990a51e6637b3aec83bdfd68488de192c6aff3f5a8661c0fcf7fce7c40ea5ab0"
   }
  }
 },
 "nbformat": 4,
 "nbformat_minor": 2
}
